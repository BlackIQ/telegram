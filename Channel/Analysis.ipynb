{
 "cells": [
  {
   "cell_type": "code",
   "execution_count": null,
   "id": "9ae2c857",
   "metadata": {},
   "outputs": [],
   "source": [
    "import matplotlib.pyplot as plt\n",
    "import method as md"
   ]
  },
  {
   "cell_type": "code",
   "execution_count": null,
   "id": "1f8a4661",
   "metadata": {},
   "outputs": [],
   "source": [
    "md.ShowChannelList()"
   ]
  },
  {
   "cell_type": "code",
   "execution_count": null,
   "id": "2a629324",
   "metadata": {},
   "outputs": [],
   "source": [
    "username = \"MohammadZarchi\"\n",
    "data = md.fe(username)"
   ]
  },
  {
   "cell_type": "code",
   "execution_count": null,
   "id": "b8b599f6",
   "metadata": {},
   "outputs": [],
   "source": [
    "data = await md.get_data(username, 100)"
   ]
  },
  {
   "cell_type": "code",
   "execution_count": null,
   "id": "c8336449",
   "metadata": {},
   "outputs": [],
   "source": [
    "x1 = [\n",
    "    1.1, 1.3, 1.5, 1.7, 1.9,\n",
    "    1.1, 1.3, 1.5, 1.7, 1.9,\n",
    "    1.1, 1.3, 1.5, 1.7, 1.9,\n",
    "    1.1, 1.3, 1.5, 1.7, 1.9,\n",
    "    1.1, 1.3, 1.5, 1.7, 1.9,\n",
    "    1.1, 1.3, 1.5, 1.7, 1.9,\n",
    "    1.1\n",
    "]\n",
    "y1 = [\n",
    "    1.04, 1.04, 1.04, 1.04, 1.04,\n",
    "    1.18, 1.18, 1.18, 1.18, 1.18,\n",
    "    1.32, 1.32, 1.32, 1.32, 1.32,\n",
    "    1.46, 1.46, 1.46, 1.46, 1.46,\n",
    "    1.60, 1.60, 1.60, 1.60, 1.60,\n",
    "    1.74, 1.74, 1.74, 1.74, 1.74,\n",
    "    1.88,\n",
    "]\n",
    "\n",
    "plt.figure(figsize=(15, 15))\n",
    "plt.scatter(x1, y1, color='#000000', s=30, marker=\"*\")\n",
    "\n",
    "#ux, uy = crt2_num(int(mi_ts))\n",
    "# plt.scatter([ux], [uy], color='#FF0000', s=150, marker=\"*\")\n",
    "plt.title(f'\\nScatter Graph of @ZarchiMohammad\\'s Following (Twitter Signup Date)\\n',\n",
    "          fontname=\"DejaVu Sans\", size=14)\n",
    "plt.xlabel(\"\\nMonth of year \\n \\nDeveloped by @ZarchiMohammad\\n\")\n",
    "plt.ylabel(\"\\nPast years from 2006 until now\\n\")\n",
    "plt.grid(color='gray', linestyle='--', linewidth=0.7)\n",
    "x = ['|', '14', '15', '16', '17', '18', '19', '20', '21', '22', '23', '24', '|']\n",
    "y = ['—', 'Jan', 'Feb', 'Mar', 'Apr', 'May', 'Jun',\n",
    "     'Jul', 'Aug', 'Sep', 'Oct', 'Nov', 'Dec', '—']\n",
    "plt.xlim([0, 12])\n",
    "plt.ylim([0, 12])\n",
    "plt.xticks(range(len(x)), x)\n",
    "plt.yticks(range(len(y)), y)\n",
    "plt.tick_params(axis=\"y\", which=\"both\", labelleft=True, labelright=True)\n"
   ]
  },
  {
   "cell_type": "code",
   "execution_count": null,
   "id": "90c16ff2",
   "metadata": {},
   "outputs": [],
   "source": []
  }
 ],
 "metadata": {
  "kernelspec": {
   "display_name": "Python 3 (ipykernel)",
   "language": "python",
   "name": "python3"
  },
  "language_info": {
   "codemirror_mode": {
    "name": "ipython",
    "version": 3
   },
   "file_extension": ".py",
   "mimetype": "text/x-python",
   "name": "python",
   "nbconvert_exporter": "python",
   "pygments_lexer": "ipython3",
   "version": "3.10.6"
  },
  "vscode": {
   "interpreter": {
    "hash": "916dbcbb3f70747c44a77c7bcd40155683ae19c65e1c03b4aa3499c5328201f1"
   }
  }
 },
 "nbformat": 4,
 "nbformat_minor": 5
}
