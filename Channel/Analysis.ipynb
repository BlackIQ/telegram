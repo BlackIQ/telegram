{
 "cells": [
  {
   "cell_type": "code",
   "execution_count": null,
   "id": "9ae2c857",
   "metadata": {},
   "outputs": [],
   "source": [
    "import matplotlib.pyplot as plt\n",
    "import method as md"
   ]
  },
  {
   "cell_type": "code",
   "execution_count": null,
   "id": "1f8a4661",
   "metadata": {},
   "outputs": [],
   "source": [
    "md.ShowChannelList()"
   ]
  },
  {
   "cell_type": "code",
   "execution_count": null,
   "id": "2a629324",
   "metadata": {},
   "outputs": [],
   "source": [
    "username = \"MohammadZarchi\"\n",
    "data = md.fe(username)"
   ]
  },
  {
   "cell_type": "code",
   "execution_count": null,
   "id": "b8b599f6",
   "metadata": {},
   "outputs": [],
   "source": [
    "data = await md.get_data(username, 1700)"
   ]
  },
  {
   "cell_type": "code",
   "execution_count": null,
   "id": "c8336449",
   "metadata": {},
   "outputs": [],
   "source": [
    "x1, y1, tod = md.scatter_handel(data)\n",
    "plt.figure(figsize=(15, 15))\n",
    "plt.scatter(x1['g1'], y1['g1'], color='#000000', s=100, marker=\".\")\n",
    "plt.scatter(x1['g2'], y1['g2'], color='#202020', s=100, marker=\".\")\n",
    "plt.scatter(x1['g3'], y1['g3'], color='#404040', s=100, marker=\".\")\n",
    "plt.scatter(tod[0], tod[1], color='#FF0000', s=100, marker=\".\")\n",
    "\n",
    "plt.title(f'\\nScatter points of @{username} Telegram channel\\n',\n",
    "          fontname=\"DejaVu Sans\", size=14)\n",
    "plt.xlabel(\"\\nNumber of year\\n\")\n",
    "plt.ylabel(\"\\nName of month\\n\")\n",
    "plt.grid(color='gray', linestyle='--', linewidth=0.7)\n",
    "x = ['', '2013', '2014', '2015', '2016', '2017', '2018', '2019', '2020', '2021', '2022', '2023', '2024']\n",
    "y = ['', 'Jan', 'Feb', 'Mar', 'Apr', 'May', 'Jun',\n",
    "     'Jul', 'Aug', 'Sep', 'Oct', 'Nov', 'Dec']\n",
    "\n",
    "plt.xlim([0, 12])\n",
    "plt.ylim([0, 12])\n",
    "\n",
    "plt.xticks(range(len(x)), x)\n",
    "plt.yticks(range(len(y)), y)\n",
    "plt.tick_params(axis=\"y\", which=\"both\", labelleft=True, labelright=True)\n"
   ]
  },
  {
   "cell_type": "code",
   "execution_count": null,
   "id": "cbd8fc3b",
   "metadata": {},
   "outputs": [],
   "source": []
  }
 ],
 "metadata": {
  "kernelspec": {
   "display_name": "Python 3 (ipykernel)",
   "language": "python",
   "name": "python3"
  },
  "language_info": {
   "codemirror_mode": {
    "name": "ipython",
    "version": 3
   },
   "file_extension": ".py",
   "mimetype": "text/x-python",
   "name": "python",
   "nbconvert_exporter": "python",
   "pygments_lexer": "ipython3",
   "version": "3.10.6"
  },
  "vscode": {
   "interpreter": {
    "hash": "916dbcbb3f70747c44a77c7bcd40155683ae19c65e1c03b4aa3499c5328201f1"
   }
  }
 },
 "nbformat": 4,
 "nbformat_minor": 5
}
