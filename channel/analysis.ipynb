{
 "cells": [
  {
   "cell_type": "code",
   "execution_count": 1,
   "id": "9ae2c857",
   "metadata": {},
   "outputs": [],
   "source": [
    "import matplotlib.pyplot as plt\n",
    "import method as md"
   ]
  },
  {
   "cell_type": "code",
   "execution_count": null,
   "id": "1f8a4661",
   "metadata": {},
   "outputs": [],
   "source": [
    "md.ShowChannelList()"
   ]
  },
  {
   "cell_type": "code",
   "execution_count": 2,
   "id": "2a629324",
   "metadata": {},
   "outputs": [
    {
     "name": "stdout",
     "output_type": "stream",
     "text": [
      "App does not have any json file!\n",
      "Use below cell to get channel data ..\n"
     ]
    }
   ],
   "source": [
    "username = \"MohammadZarchi\"\n",
    "data = md.fe(username)"
   ]
  },
  {
   "cell_type": "code",
   "execution_count": 3,
   "id": "b8b599f6",
   "metadata": {},
   "outputs": [
    {
     "name": "stdout",
     "output_type": "stream",
     "text": [
      "Start streaming ...\n",
      "\n",
      "Data size: 101\n"
     ]
    }
   ],
   "source": [
    "data = await md.get_data(username, 2000)"
   ]
  },
  {
   "cell_type": "code",
   "execution_count": null,
   "id": "dcb6d0c5",
   "metadata": {},
   "outputs": [],
   "source": [
    "datetime_srt = md.ts(\"2010-01-18 00:00\") # Start\n",
    "datetime_end = md.ts(\"2025-12-25 23:59\") # End"
   ]
  },
  {
   "cell_type": "code",
   "execution_count": 4,
   "id": "27eced14",
   "metadata": {},
   "outputs": [],
   "source": [
    "dics = md.get_vfm_data(data, 0, name=\"as\")\n"
   ]
  },
  {
   "cell_type": "code",
   "execution_count": null,
   "id": "e3e04286",
   "metadata": {},
   "outputs": [],
   "source": [
    "match_code = 3\n",
    "\n",
    "cotr = 1\n",
    "cont = []\n",
    "view = []\n",
    "forw = []\n",
    "repl = []\n",
    "view_dict = {}\n",
    "forw_dict = {}\n",
    "repl_dict = {}\n",
    "\n",
    "for post in data:\n",
    "    match match_code:\n",
    "        case 0:\n",
    "            # No limit\n",
    "            if (post['w'] == 0):\n",
    "                cont.append(cotr)\n",
    "                view.append(post['v'])\n",
    "                forw.append(post['f'])\n",
    "                repl.append(post['m'])\n",
    "                view_dict.update({post['i']: post['v']})\n",
    "                forw_dict.update({post['i']: post['f']})\n",
    "                repl_dict.update({post['i']: post['m']})\n",
    "\n",
    "        case 1:\n",
    "            # DateTime limit\n",
    "            if (post['s'] < md.ts(\"2010-01-18 00:00\") and\n",
    "                    post['s'] > md.ts(\"2025-01-18 00:00\")):\n",
    "                cont.append(cotr)\n",
    "                view.append(post['v'])\n",
    "                forw.append(post['f'])\n",
    "                repl.append(post['m'])\n",
    "                view_dict.update({post['i']: post['v']})\n",
    "                forw_dict.update({post['i']: post['f']})\n",
    "                repl_dict.update({post['i']: post['m']})\n",
    "\n",
    "        case 2:\n",
    "            pass\n",
    "\n",
    "        case 3:\n",
    "            # View limit\n",
    "            if (post['w'] == 0):\n",
    "                if (post['v'] < max_ll and post['v'] > min_ll):\n",
    "                    cont.append(cotr)\n",
    "                    view.append(post['v'])\n",
    "                    forw.append(post['f'])\n",
    "                    repl.append(post['m'])\n",
    "                    view_dict.update({post['i']: post['v']})\n",
    "                    forw_dict.update({post['i']: post['f']})\n",
    "                    repl_dict.update({post['i']: post['m']})\n",
    "\n",
    "        case 4:\n",
    "            # Forward limit\n",
    "            if (post['f'] < max_fl and post['f'] > min_fl):\n",
    "                cont.append(cotr)\n",
    "                view.append(post['v'])\n",
    "                forw.append(post['f'])\n",
    "                repl.append(post['m'])\n",
    "\n",
    "        case 5:\n",
    "            # Mention limit\n",
    "            if (post['m'] < max_ml and post['m'] > min_ml):\n",
    "                cont.append(cotr)\n",
    "                view.append(post['v'])\n",
    "                forw.append(post['f'])\n",
    "                repl.append(post['m'])\n",
    "\n",
    "        case 6:\n",
    "            # ID limit\n",
    "            if (post['i'] < max_id and post['i'] > min_id):\n",
    "                cont.append(cotr)\n",
    "                view.append(post['v'])\n",
    "                forw.append(post['f'])\n",
    "                repl.append(post['m'])\n",
    "\n",
    "        case 7:\n",
    "            if (post['w'] == 0):\n",
    "                cont.append(cotr)\n",
    "                view.append(post['v'])\n",
    "                forw.append(post['f'])\n",
    "                repl.append(post['m'])\n",
    "\n",
    "        case 12:\n",
    "            pass\n",
    "\n",
    "        case 13:\n",
    "            # DateTime & view limit\n",
    "            if (post['s'] < dati_end and post['s'] > dati_sta and\n",
    "                    post['v'] < max_ll and post['v'] > min_ll):\n",
    "                cont.append(cotr)\n",
    "                view.append(post['v'])\n",
    "                forw.append(post['f'])\n",
    "                repl.append(post['m'])\n",
    "                view_dict.update({post['i']: post['v']})\n",
    "                forw_dict.update({post['i']: post['f']})\n",
    "                repl_dict.update({post['i']: post['m']})\n",
    "\n",
    "        case 14:\n",
    "            pass\n",
    "\n",
    "        case 15:\n",
    "            pass\n",
    "\n",
    "        case 23:\n",
    "            pass\n",
    "\n",
    "        case 24:\n",
    "            pass\n",
    "\n",
    "        case 25:\n",
    "            pass\n",
    "\n",
    "        case 34:\n",
    "            pass\n",
    "\n",
    "        case 35:\n",
    "            pass\n",
    "\n",
    "        case 45:\n",
    "            pass\n",
    "\n",
    "    cotr += 1\n"
   ]
  },
  {
   "cell_type": "code",
   "execution_count": null,
   "id": "c8336449",
   "metadata": {},
   "outputs": [],
   "source": [
    "x1, y1, tod, distance = md.scatter_handel(data)\n",
    "plt.figure(figsize=(15, 15))\n",
    "plt.scatter(x1['g1'], y1['g1'], color='#000000', s=100, marker=\".\")\n",
    "plt.scatter(x1['g2'], y1['g2'], color='#202020', s=100, marker=\".\")\n",
    "plt.scatter(x1['g3'], y1['g3'], color='#404040', s=100, marker=\".\")\n",
    "plt.scatter(tod[0], tod[1], color='#FF0000', s=100, marker=\".\")\n",
    "\n",
    "plt.title(f'\\nScatter points of @{username} Telegram channel\\n',\n",
    "          fontname=\"DejaVu Sans\", size=14)\n",
    "plt.xlabel(\"\\nNumber of year\\n\")\n",
    "plt.ylabel(\"\\nName of month\\n\")\n",
    "plt.grid(color='gray', linestyle='--', linewidth=0.7)\n",
    "x = ['', '2013', '2014', '2015', '2016', '2017', '2018', '2019', '2020', '2021', '2022', '2023', '2024']\n",
    "y = ['', 'Jan', 'Feb', 'Mar', 'Apr', 'May', 'Jun',\n",
    "     'Jul', 'Aug', 'Sep', 'Oct', 'Nov', 'Dec']\n",
    "\n",
    "plt.xlim([0, 12])\n",
    "plt.ylim([0, 12])\n",
    "\n",
    "plt.xticks(range(len(x)), x)\n",
    "plt.yticks(range(len(y)), y)\n",
    "plt.tick_params(axis=\"y\", which=\"both\", labelleft=True, labelright=True)\n"
   ]
  },
  {
   "cell_type": "code",
   "execution_count": null,
   "id": "28e7e2bb",
   "metadata": {},
   "outputs": [],
   "source": [
    "md.show_day_distance(distance, 5)"
   ]
  }
 ],
 "metadata": {
  "kernelspec": {
   "display_name": "Python 3 (ipykernel)",
   "language": "python",
   "name": "python3"
  },
  "language_info": {
   "codemirror_mode": {
    "name": "ipython",
    "version": 3
   },
   "file_extension": ".py",
   "mimetype": "text/x-python",
   "name": "python",
   "nbconvert_exporter": "python",
   "pygments_lexer": "ipython3",
   "version": "3.10.6"
  },
  "vscode": {
   "interpreter": {
    "hash": "916dbcbb3f70747c44a77c7bcd40155683ae19c65e1c03b4aa3499c5328201f1"
   }
  }
 },
 "nbformat": 4,
 "nbformat_minor": 5
}
